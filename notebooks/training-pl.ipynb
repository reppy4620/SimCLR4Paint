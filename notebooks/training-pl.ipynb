{
 "cells": [
  {
   "cell_type": "code",
   "execution_count": null,
   "metadata": {},
   "outputs": [],
   "source": [
    "%load_ext autoreload"
   ]
  },
  {
   "cell_type": "code",
   "execution_count": null,
   "metadata": {},
   "outputs": [],
   "source": [
    "import warnings\n",
    "from dataclasses import dataclass\n",
    "\n",
    "import pytorch_lightning as pl\n",
    "import torch\n",
    "import torch.optim as optim\n",
    "from PIL import ImageFile\n",
    "from torch.utils.data import Dataset\n",
    "\n",
    "from modules import NT_Xent, TransformsSimCLR, SimCLR, ImageDataset\n",
    "\n",
    "warnings.filterwarnings('ignore')\n",
    "ImageFile.LOAD_TRUNCATED_IMAGES = True"
   ]
  },
  {
   "cell_type": "code",
   "execution_count": null,
   "metadata": {},
   "outputs": [],
   "source": [
    "@dataclass\n",
    "class Config:\n",
    "    seed: int = 116\n",
    "    batch_size: int = 16\n",
    "    epochs: int = 10\n",
    "\n",
    "    projection_dim: int = 256\n",
    "    img_size: int = 512\n",
    "\n",
    "    temperature: float = 0.5\n",
    "\n",
    "    train_path = './data/train'\n",
    "    valid_path = './data/valid'"
   ]
  },
  {
   "cell_type": "code",
   "execution_count": null,
   "metadata": {},
   "outputs": [],
   "source": [
    "class SimCLRModel(pl.LightningModule):\n",
    "    def __init__(self, args):\n",
    "        super().__init__()\n",
    "        self.args = args\n",
    "\n",
    "        self.model = SimCLR(args.projection_dim)\n",
    "        self.criterion = NT_Xent(args.batch_size, args.temperature)\n",
    "\n",
    "    def forward(self, x):\n",
    "        return self.model(x)\n",
    "\n",
    "    def training_step(self, batch, batch_idx):\n",
    "        x_i, x_j = batch\n",
    "\n",
    "        h_i, z_i = self.model(x_i)\n",
    "        h_j, z_j = self.model(x_j)\n",
    "\n",
    "        loss = self.criterion(z_i, z_j)\n",
    "        log = {'train_loss': loss}\n",
    "\n",
    "        return {'loss': loss, 'log': log}\n",
    "\n",
    "    def validation_step(self, batch, batch_idx):\n",
    "        x_i, x_j = batch\n",
    "\n",
    "        h_i, z_i = self.model(x_i)\n",
    "        h_j, z_j = self.model(x_j)\n",
    "\n",
    "        loss = self.criterion(z_i, z_j)\n",
    "\n",
    "        return {'val_loss': loss}\n",
    "\n",
    "    def validation_epoch_end(self, outputs):\n",
    "        # OPTIONAL\n",
    "        avg_loss = torch.stack([x['val_loss'] for x in outputs]).mean()\n",
    "        log = {'val_loss': avg_loss}\n",
    "        return {'val_loss': avg_loss, 'log': log}\n",
    "\n",
    "    def configure_optimizers(self):\n",
    "        return optim.AdamW(self.parameters(), lr=1e-3)\n",
    "\n",
    "    def train_dataloader(self):\n",
    "        dataset = ImageDataset(\n",
    "            self.args.train_path,\n",
    "            transform=TransformsSimCLR(self.hparams.img_size)\n",
    "        )\n",
    "        train_loader = torch.utils.data.DataLoader(\n",
    "            dataset,\n",
    "            batch_size=self.args.batch_size,\n",
    "            drop_last=True,\n",
    "            shuffle=True\n",
    "        )\n",
    "        return train_loader\n",
    "\n",
    "    def val_dataloader(self):\n",
    "        dataset = ImageDataset(\n",
    "            self.args.valid_path,\n",
    "            transform=TransformsSimCLR(self.hparams.img_size)\n",
    "        )\n",
    "        train_loader = torch.utils.data.DataLoader(\n",
    "            dataset,\n",
    "            batch_size=self.args.batch_size,\n",
    "            drop_last=True,\n",
    "            shuffle=False\n",
    "        )\n",
    "        return train_loader"
   ]
  },
  {
   "cell_type": "code",
   "execution_count": null,
   "metadata": {},
   "outputs": [],
   "source": [
    "args = Config()"
   ]
  },
  {
   "cell_type": "code",
   "execution_count": null,
   "metadata": {},
   "outputs": [],
   "source": [
    "pl.seed_everything(args.seed)\n",
    "model = SimCLRModel(args)\n",
    "\n",
    "trainer = pl.Trainer(\n",
    "    gpus=1,\n",
    "    max_epochs=args.epochs,\n",
    "    gradient_clip_val=1.0,\n",
    "    deterministic=True\n",
    ")\n",
    "trainer.fit(model)"
   ]
  }
 ],
 "metadata": {
  "kernelspec": {
   "display_name": "Python 3",
   "language": "python",
   "name": "python3"
  },
  "language_info": {
   "codemirror_mode": {
    "name": "ipython",
    "version": 3
   },
   "file_extension": ".py",
   "mimetype": "text/x-python",
   "name": "python",
   "nbconvert_exporter": "python",
   "pygments_lexer": "ipython3",
   "version": "3.7.7"
  }
 },
 "nbformat": 4,
 "nbformat_minor": 4
}